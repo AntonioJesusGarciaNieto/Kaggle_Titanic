{
  "nbformat": 4,
  "nbformat_minor": 0,
  "metadata": {
    "accelerator": "TPU",
    "colab": {
      "name": "Titanic.ipynb",
      "provenance": [],
      "collapsed_sections": [],
      "toc_visible": true
    },
    "kernelspec": {
      "display_name": "Python 3",
      "name": "python3"
    }
  },
  "cells": [
    {
      "cell_type": "code",
      "metadata": {
        "colab": {
          "base_uri": "https://localhost:8080/"
        },
        "id": "-F2Cz6QoR6BP",
        "outputId": "90358003-1e49-4f6e-c866-94cac8b1b4f2"
      },
      "source": [
        "#Conexión con google drive\n",
        "\n",
        "from google.colab import drive\n",
        "drive.mount('/content/drive')\n",
        "#Rutas de paquetes de datos.\n",
        "\n",
        "GPath =  '/content/drive/My Drive/Kaggle/Titanic/Datos/Inputs'\n",
        "train_path = GPath + \"/train.csv\"\n",
        "test_path = GPath + \"/test.csv\"\n"
      ],
      "execution_count": 2,
      "outputs": [
        {
          "output_type": "stream",
          "text": [
            "Mounted at /content/drive\n"
          ],
          "name": "stdout"
        }
      ]
    },
    {
      "cell_type": "markdown",
      "metadata": {
        "id": "2-YqSf_lpwLp"
      },
      "source": [
        "##Visualización de datos"
      ]
    },
    {
      "cell_type": "code",
      "metadata": {
        "id": "qI7dzNou3oNp"
      },
      "source": [
        "import pandas as pd\r\n",
        "import numpy as np\r\n",
        "import seaborn as sns \r\n",
        "import matplotlib.pyplot as plt"
      ],
      "execution_count": 3,
      "outputs": []
    },
    {
      "cell_type": "code",
      "metadata": {
        "id": "6TJunx723VeX"
      },
      "source": [
        "train_data = pd.read_csv(train_path)\r\n",
        "test_data = pd.read_csv(test_path)"
      ],
      "execution_count": 4,
      "outputs": []
    },
    {
      "cell_type": "code",
      "metadata": {
        "colab": {
          "base_uri": "https://localhost:8080/",
          "height": 204
        },
        "id": "knOJ3DCI4BOo",
        "outputId": "223eee10-8566-4897-8ffa-dd49e990e598"
      },
      "source": [
        "train_data.head()"
      ],
      "execution_count": 5,
      "outputs": [
        {
          "output_type": "execute_result",
          "data": {
            "text/html": [
              "<div>\n",
              "<style scoped>\n",
              "    .dataframe tbody tr th:only-of-type {\n",
              "        vertical-align: middle;\n",
              "    }\n",
              "\n",
              "    .dataframe tbody tr th {\n",
              "        vertical-align: top;\n",
              "    }\n",
              "\n",
              "    .dataframe thead th {\n",
              "        text-align: right;\n",
              "    }\n",
              "</style>\n",
              "<table border=\"1\" class=\"dataframe\">\n",
              "  <thead>\n",
              "    <tr style=\"text-align: right;\">\n",
              "      <th></th>\n",
              "      <th>PassengerId</th>\n",
              "      <th>Survived</th>\n",
              "      <th>Pclass</th>\n",
              "      <th>Name</th>\n",
              "      <th>Sex</th>\n",
              "      <th>Age</th>\n",
              "      <th>SibSp</th>\n",
              "      <th>Parch</th>\n",
              "      <th>Ticket</th>\n",
              "      <th>Fare</th>\n",
              "      <th>Cabin</th>\n",
              "      <th>Embarked</th>\n",
              "    </tr>\n",
              "  </thead>\n",
              "  <tbody>\n",
              "    <tr>\n",
              "      <th>0</th>\n",
              "      <td>1</td>\n",
              "      <td>0</td>\n",
              "      <td>3</td>\n",
              "      <td>Braund, Mr. Owen Harris</td>\n",
              "      <td>male</td>\n",
              "      <td>22.0</td>\n",
              "      <td>1</td>\n",
              "      <td>0</td>\n",
              "      <td>A/5 21171</td>\n",
              "      <td>7.2500</td>\n",
              "      <td>NaN</td>\n",
              "      <td>S</td>\n",
              "    </tr>\n",
              "    <tr>\n",
              "      <th>1</th>\n",
              "      <td>2</td>\n",
              "      <td>1</td>\n",
              "      <td>1</td>\n",
              "      <td>Cumings, Mrs. John Bradley (Florence Briggs Th...</td>\n",
              "      <td>female</td>\n",
              "      <td>38.0</td>\n",
              "      <td>1</td>\n",
              "      <td>0</td>\n",
              "      <td>PC 17599</td>\n",
              "      <td>71.2833</td>\n",
              "      <td>C85</td>\n",
              "      <td>C</td>\n",
              "    </tr>\n",
              "    <tr>\n",
              "      <th>2</th>\n",
              "      <td>3</td>\n",
              "      <td>1</td>\n",
              "      <td>3</td>\n",
              "      <td>Heikkinen, Miss. Laina</td>\n",
              "      <td>female</td>\n",
              "      <td>26.0</td>\n",
              "      <td>0</td>\n",
              "      <td>0</td>\n",
              "      <td>STON/O2. 3101282</td>\n",
              "      <td>7.9250</td>\n",
              "      <td>NaN</td>\n",
              "      <td>S</td>\n",
              "    </tr>\n",
              "    <tr>\n",
              "      <th>3</th>\n",
              "      <td>4</td>\n",
              "      <td>1</td>\n",
              "      <td>1</td>\n",
              "      <td>Futrelle, Mrs. Jacques Heath (Lily May Peel)</td>\n",
              "      <td>female</td>\n",
              "      <td>35.0</td>\n",
              "      <td>1</td>\n",
              "      <td>0</td>\n",
              "      <td>113803</td>\n",
              "      <td>53.1000</td>\n",
              "      <td>C123</td>\n",
              "      <td>S</td>\n",
              "    </tr>\n",
              "    <tr>\n",
              "      <th>4</th>\n",
              "      <td>5</td>\n",
              "      <td>0</td>\n",
              "      <td>3</td>\n",
              "      <td>Allen, Mr. William Henry</td>\n",
              "      <td>male</td>\n",
              "      <td>35.0</td>\n",
              "      <td>0</td>\n",
              "      <td>0</td>\n",
              "      <td>373450</td>\n",
              "      <td>8.0500</td>\n",
              "      <td>NaN</td>\n",
              "      <td>S</td>\n",
              "    </tr>\n",
              "  </tbody>\n",
              "</table>\n",
              "</div>"
            ],
            "text/plain": [
              "   PassengerId  Survived  Pclass  ...     Fare Cabin  Embarked\n",
              "0            1         0       3  ...   7.2500   NaN         S\n",
              "1            2         1       1  ...  71.2833   C85         C\n",
              "2            3         1       3  ...   7.9250   NaN         S\n",
              "3            4         1       1  ...  53.1000  C123         S\n",
              "4            5         0       3  ...   8.0500   NaN         S\n",
              "\n",
              "[5 rows x 12 columns]"
            ]
          },
          "metadata": {
            "tags": []
          },
          "execution_count": 5
        }
      ]
    },
    {
      "cell_type": "code",
      "metadata": {
        "colab": {
          "base_uri": "https://localhost:8080/",
          "height": 204
        },
        "id": "iIio4Xnc4Kew",
        "outputId": "d415d199-6117-4aa5-a67b-e0a39e0ebb9b"
      },
      "source": [
        "test_data.head()"
      ],
      "execution_count": 6,
      "outputs": [
        {
          "output_type": "execute_result",
          "data": {
            "text/html": [
              "<div>\n",
              "<style scoped>\n",
              "    .dataframe tbody tr th:only-of-type {\n",
              "        vertical-align: middle;\n",
              "    }\n",
              "\n",
              "    .dataframe tbody tr th {\n",
              "        vertical-align: top;\n",
              "    }\n",
              "\n",
              "    .dataframe thead th {\n",
              "        text-align: right;\n",
              "    }\n",
              "</style>\n",
              "<table border=\"1\" class=\"dataframe\">\n",
              "  <thead>\n",
              "    <tr style=\"text-align: right;\">\n",
              "      <th></th>\n",
              "      <th>PassengerId</th>\n",
              "      <th>Pclass</th>\n",
              "      <th>Name</th>\n",
              "      <th>Sex</th>\n",
              "      <th>Age</th>\n",
              "      <th>SibSp</th>\n",
              "      <th>Parch</th>\n",
              "      <th>Ticket</th>\n",
              "      <th>Fare</th>\n",
              "      <th>Cabin</th>\n",
              "      <th>Embarked</th>\n",
              "    </tr>\n",
              "  </thead>\n",
              "  <tbody>\n",
              "    <tr>\n",
              "      <th>0</th>\n",
              "      <td>892</td>\n",
              "      <td>3</td>\n",
              "      <td>Kelly, Mr. James</td>\n",
              "      <td>male</td>\n",
              "      <td>34.5</td>\n",
              "      <td>0</td>\n",
              "      <td>0</td>\n",
              "      <td>330911</td>\n",
              "      <td>7.8292</td>\n",
              "      <td>NaN</td>\n",
              "      <td>Q</td>\n",
              "    </tr>\n",
              "    <tr>\n",
              "      <th>1</th>\n",
              "      <td>893</td>\n",
              "      <td>3</td>\n",
              "      <td>Wilkes, Mrs. James (Ellen Needs)</td>\n",
              "      <td>female</td>\n",
              "      <td>47.0</td>\n",
              "      <td>1</td>\n",
              "      <td>0</td>\n",
              "      <td>363272</td>\n",
              "      <td>7.0000</td>\n",
              "      <td>NaN</td>\n",
              "      <td>S</td>\n",
              "    </tr>\n",
              "    <tr>\n",
              "      <th>2</th>\n",
              "      <td>894</td>\n",
              "      <td>2</td>\n",
              "      <td>Myles, Mr. Thomas Francis</td>\n",
              "      <td>male</td>\n",
              "      <td>62.0</td>\n",
              "      <td>0</td>\n",
              "      <td>0</td>\n",
              "      <td>240276</td>\n",
              "      <td>9.6875</td>\n",
              "      <td>NaN</td>\n",
              "      <td>Q</td>\n",
              "    </tr>\n",
              "    <tr>\n",
              "      <th>3</th>\n",
              "      <td>895</td>\n",
              "      <td>3</td>\n",
              "      <td>Wirz, Mr. Albert</td>\n",
              "      <td>male</td>\n",
              "      <td>27.0</td>\n",
              "      <td>0</td>\n",
              "      <td>0</td>\n",
              "      <td>315154</td>\n",
              "      <td>8.6625</td>\n",
              "      <td>NaN</td>\n",
              "      <td>S</td>\n",
              "    </tr>\n",
              "    <tr>\n",
              "      <th>4</th>\n",
              "      <td>896</td>\n",
              "      <td>3</td>\n",
              "      <td>Hirvonen, Mrs. Alexander (Helga E Lindqvist)</td>\n",
              "      <td>female</td>\n",
              "      <td>22.0</td>\n",
              "      <td>1</td>\n",
              "      <td>1</td>\n",
              "      <td>3101298</td>\n",
              "      <td>12.2875</td>\n",
              "      <td>NaN</td>\n",
              "      <td>S</td>\n",
              "    </tr>\n",
              "  </tbody>\n",
              "</table>\n",
              "</div>"
            ],
            "text/plain": [
              "   PassengerId  Pclass  ... Cabin Embarked\n",
              "0          892       3  ...   NaN        Q\n",
              "1          893       3  ...   NaN        S\n",
              "2          894       2  ...   NaN        Q\n",
              "3          895       3  ...   NaN        S\n",
              "4          896       3  ...   NaN        S\n",
              "\n",
              "[5 rows x 11 columns]"
            ]
          },
          "metadata": {
            "tags": []
          },
          "execution_count": 6
        }
      ]
    },
    {
      "cell_type": "code",
      "metadata": {
        "colab": {
          "base_uri": "https://localhost:8080/"
        },
        "id": "7_0TgJpp4do_",
        "outputId": "d14b249c-c51a-45c9-febb-4e8d1da9ac3b"
      },
      "source": [
        "print(\"El número de entradas en la tabla de entrenamiento es: \" + str(train_data.shape[0]) + \". Cada entrada tiene \" + str(train_data.shape[1]) + \" columnas.\")\r\n",
        "print(\"El número de entradas en la tabla de test es: \" + str(test_data.shape[0]) + \". Cada entrada tiene \" + str(test_data.shape[1]) + \" columnas.\")"
      ],
      "execution_count": 7,
      "outputs": [
        {
          "output_type": "stream",
          "text": [
            "El número de entradas en la tabla de entrenamiento es: 891. Cada entrada tiene 12 columnas.\n",
            "El número de entradas en la tabla de test es: 418. Cada entrada tiene 11 columnas.\n"
          ],
          "name": "stdout"
        }
      ]
    },
    {
      "cell_type": "code",
      "metadata": {
        "id": "3P8s62Uf66mI"
      },
      "source": [
        "def plotMissingParams(data,color=\"blue\",val=False):\r\n",
        "  plt.figure(figsize = (13,5))\r\n",
        "  if val:\r\n",
        "    plt.bar(test_data.columns, test_data.isnull().sum().values, color = color)\r\n",
        "  else:\r\n",
        "    plt.bar(data.columns, train_data.isna().sum(),color=color)\r\n",
        "  plt.xlabel(\"Nombre de las columnas\")\r\n",
        "  plt.ylabel(\"Número celdas vacías\")\r\n",
        "  plt.show()"
      ],
      "execution_count": 8,
      "outputs": []
    },
    {
      "cell_type": "code",
      "metadata": {
        "colab": {
          "base_uri": "https://localhost:8080/",
          "height": 334
        },
        "id": "y9JFIElY588o",
        "outputId": "c2ca15b3-ec04-48c8-a0c1-2b8cd7a5d810"
      },
      "source": [
        "plotMissingParams(train_data,color=\"green\")\r\n",
        "\r\n",
        "# Podemos asegurar que hay tres campos con elementos faltantes(Age,Cabin,Embarked). Tendremos que abordar este problema más tarde."
      ],
      "execution_count": 9,
      "outputs": [
        {
          "output_type": "display_data",
          "data": {
            "image/png": "[encoded data removed]",
            "text/plain": [
              "<Figure size 936x360 with 1 Axes>"
            ]
          },
          "metadata": {
            "tags": [],
            "needs_background": "light"
          }
        }
      ]
    },
    {
      "cell_type": "code",
      "metadata": {
        "colab": {
          "base_uri": "https://localhost:8080/",
          "height": 334
        },
        "id": "GYGn8htw62tx",
        "outputId": "4f8a776e-25ff-4261-fcb1-3bb61070ff36"
      },
      "source": [
        "plotMissingParams(test_data,color=\"red\",val=True)\r\n",
        "\r\n",
        "# En los datos de test sucede lo mismo, solo que esta vez las clases afectadas son age,fare y cabin."
      ],
      "execution_count": 10,
      "outputs": [
        {
          "output_type": "display_data",
          "data": {
            "image/png": "[encoded data removed]",
            "text/plain": [
              "<Figure size 936x360 with 1 Axes>"
            ]
          },
          "metadata": {
            "tags": [],
            "needs_background": "light"
          }
        }
      ]
    },
    {
      "cell_type": "code",
      "metadata": {
        "id": "kk5vmJqO-D8i"
      },
      "source": [
        "def visualComparative(studyType,data,type=0,hue=\"\"):\r\n",
        "  if type == 0:\r\n",
        "\r\n",
        "   if hue ==  \"\" : \r\n",
        "     sns.countplot(x=studyType,data=data)\r\n",
        "   else:\r\n",
        "     sns.countplot(x=studyType,hue=hue,data=data)\r\n",
        "   \r\n",
        "  else:\r\n",
        "\r\n",
        "    if hue ==  \"\" : \r\n",
        "     sns.boxplot(x=studyType,data=data)\r\n",
        "    else:\r\n",
        "     sns.boxplot(x=studyType,hue=hue,data=data)\r\n",
        "\r\n",
        "  plt.show()\r\n"
      ],
      "execution_count": 11,
      "outputs": []
    },
    {
      "cell_type": "code",
      "metadata": {
        "colab": {
          "base_uri": "https://localhost:8080/",
          "height": 279
        },
        "id": "ik7KdowP9NCC",
        "outputId": "aca8ac62-4e3e-4dc6-b7cf-782e50b67108"
      },
      "source": [
        "visualComparative(\"Survived\",train_data)"
      ],
      "execution_count": 12,
      "outputs": [
        {
          "output_type": "display_data",
          "data": {
            "image/png": "[encoded data removed]",
            "text/plain": [
              "<Figure size 432x288 with 1 Axes>"
            ]
          },
          "metadata": {
            "tags": [],
            "needs_background": "light"
          }
        }
      ]
    },
    {
      "cell_type": "code",
      "metadata": {
        "colab": {
          "base_uri": "https://localhost:8080/",
          "height": 279
        },
        "id": "ma2DA5he9c_R",
        "outputId": "9fb278c4-1496-4813-d57e-736dde14cf6d"
      },
      "source": [
        "visualComparative(\"Embarked\",train_data)"
      ],
      "execution_count": 13,
      "outputs": [
        {
          "output_type": "display_data",
          "data": {
            "image/png": "[encoded data removed]",
            "text/plain": [
              "<Figure size 432x288 with 1 Axes>"
            ]
          },
          "metadata": {
            "tags": [],
            "needs_background": "light"
          }
        }
      ]
    },
    {
      "cell_type": "code",
      "metadata": {
        "colab": {
          "base_uri": "https://localhost:8080/",
          "height": 279
        },
        "id": "NuF2zZ6d9lP6",
        "outputId": "3c06403d-7063-4da4-960b-8a7e85565387"
      },
      "source": [
        "visualComparative(\"Survived\",train_data,hue=\"Sex\")"
      ],
      "execution_count": 14,
      "outputs": [
        {
          "output_type": "display_data",
          "data": {
            "image/png": "[encoded data removed]",
            "text/plain": [
              "<Figure size 432x288 with 1 Axes>"
            ]
          },
          "metadata": {
            "tags": [],
            "needs_background": "light"
          }
        }
      ]
    },
    {
      "cell_type": "code",
      "metadata": {
        "colab": {
          "base_uri": "https://localhost:8080/",
          "height": 279
        },
        "id": "Ot2_bXN4-A0i",
        "outputId": "0b2e9542-c356-4cfe-b8a1-6e94684f87ff"
      },
      "source": [
        "visualComparative(\"Survived\",train_data,hue=\"Pclass\")"
      ],
      "execution_count": 15,
      "outputs": [
        {
          "output_type": "display_data",
          "data": {
            "image/png": "[encoded data removed]",
            "text/plain": [
              "<Figure size 432x288 with 1 Axes>"
            ]
          },
          "metadata": {
            "tags": [],
            "needs_background": "light"
          }
        }
      ]
    },
    {
      "cell_type": "code",
      "metadata": {
        "colab": {
          "base_uri": "https://localhost:8080/",
          "height": 279
        },
        "id": "QwGAgtevGtKT",
        "outputId": "0ff61135-8e30-4b3e-f884-94e99a9e1680"
      },
      "source": [
        "visualComparative(\"Survived\",train_data,hue=\"Embarked\")"
      ],
      "execution_count": 16,
      "outputs": [
        {
          "output_type": "display_data",
          "data": {
            "image/png": "[encoded data removed]",
            "text/plain": [
              "<Figure size 432x288 with 1 Axes>"
            ]
          },
          "metadata": {
            "tags": [],
            "needs_background": "light"
          }
        }
      ]
    },
    {
      "cell_type": "code",
      "metadata": {
        "colab": {
          "base_uri": "https://localhost:8080/",
          "height": 279
        },
        "id": "wPf759vdJ94c",
        "outputId": "e3469106-b1ba-4196-9cbe-e6670a494c71"
      },
      "source": [
        "visualComparative(\"Fare\",data = train_data,type=1)"
      ],
      "execution_count": 17,
      "outputs": [
        {
          "output_type": "display_data",
          "data": {
            "image/png": "[encoded data removed]",
            "text/plain": [
              "<Figure size 432x288 with 1 Axes>"
            ]
          },
          "metadata": {
            "tags": [],
            "needs_background": "light"
          }
        }
      ]
    },
    {
      "cell_type": "code",
      "metadata": {
        "colab": {
          "base_uri": "https://localhost:8080/",
          "height": 279
        },
        "id": "xIlHnDXqKKTt",
        "outputId": "385a8fd2-4a71-47c4-c42a-c5c65bb84a88"
      },
      "source": [
        "visualComparative(\"Age\",data = train_data,type=1)"
      ],
      "execution_count": 18,
      "outputs": [
        {
          "output_type": "display_data",
          "data": {
            "image/png": "[encoded data removed]",
            "text/plain": [
              "<Figure size 432x288 with 1 Axes>"
            ]
          },
          "metadata": {
            "tags": [],
            "needs_background": "light"
          }
        }
      ]
    },
    {
      "cell_type": "code",
      "metadata": {
        "colab": {
          "base_uri": "https://localhost:8080/",
          "height": 485
        },
        "id": "aUKU5jHGKtQ1",
        "outputId": "f68fc777-43f1-401f-eb7b-10040f79681c"
      },
      "source": [
        "grid = sns.FacetGrid(train_data, col='Survived', row='Pclass', height=2.2, aspect=1.6)\r\n",
        "grid.map(plt.hist, 'Age', alpha=.5, bins=20)\r\n",
        "grid.add_legend()\r\n",
        "plt.show()"
      ],
      "execution_count": 19,
      "outputs": [
        {
          "output_type": "display_data",
          "data": {
            "image/png": "[encoded data removed]",
            "text/plain": [
              "<Figure size 514.88x475.2 with 6 Axes>"
            ]
          },
          "metadata": {
            "tags": [],
            "needs_background": "light"
          }
        }
      ]
    },
    {
      "cell_type": "markdown",
      "metadata": {
        "id": "jyWjio_bMNPU"
      },
      "source": [
        "## Tratando valores vacíos"
      ]
    },
    {
      "cell_type": "code",
      "metadata": {
        "id": "Pbmm1TpsMRu0"
      },
      "source": [
        "# Primero trataremos las cabinas. Falta demasiada información luego las tiraresmos del dataframe.\r\n",
        "tr_d = train_data.drop(\"Cabin\",1)\r\n",
        "te_d = test_data.drop(\"Cabin\",1)"
      ],
      "execution_count": 20,
      "outputs": []
    },
    {
      "cell_type": "code",
      "metadata": {
        "colab": {
          "base_uri": "https://localhost:8080/"
        },
        "id": "nONydgtrNKH-",
        "outputId": "51778fa3-736d-4fa3-8ae2-df355b9b9776"
      },
      "source": [
        "#A continuación tratamos la edad y el precio del billete. Ambos los sustituiremos por la media.\r\n",
        "#Primero unimos los datos de test y entrenamiento.\r\n",
        "def printCombineDataNulls(train_data,test_data):  \r\n",
        "  combined_data = [train_data, test_data]\r\n",
        "  for data in combined_data:\r\n",
        "    print(data.isnull().sum())\r\n",
        "    print('*' * 20)\r\n",
        "  return combined_data\r\n",
        "\r\n",
        "c_d = printCombineDataNulls(tr_d,te_d)\r\n"
      ],
      "execution_count": 21,
      "outputs": [
        {
          "output_type": "stream",
          "text": [
            "PassengerId      0\n",
            "Survived         0\n",
            "Pclass           0\n",
            "Name             0\n",
            "Sex              0\n",
            "Age            177\n",
            "SibSp            0\n",
            "Parch            0\n",
            "Ticket           0\n",
            "Fare             0\n",
            "Embarked         2\n",
            "dtype: int64\n",
            "********************\n",
            "PassengerId     0\n",
            "Pclass          0\n",
            "Name            0\n",
            "Sex             0\n",
            "Age            86\n",
            "SibSp           0\n",
            "Parch           0\n",
            "Ticket          0\n",
            "Fare            1\n",
            "Embarked        0\n",
            "dtype: int64\n",
            "********************\n"
          ],
          "name": "stdout"
        }
      ]
    },
    {
      "cell_type": "code",
      "metadata": {
        "id": "AQUb2f9QOPf_"
      },
      "source": [
        "def replaceWithMean(full_data,val=\"\"):\r\n",
        "  for data in full_data:\r\n",
        "    data = data[val].fillna(data[val].mean(),inplace=True)\r\n",
        "\r\n",
        "\r\n",
        "replaceWithMean(c_d ,val=\"Age\")\r\n",
        "replaceWithMean(c_d ,val=\"Fare\")"
      ],
      "execution_count": 22,
      "outputs": []
    },
    {
      "cell_type": "code",
      "metadata": {
        "id": "yXlg2hwPQjHV"
      },
      "source": [
        "tr_d.Embarked.fillna(\"S\",inplace=True)"
      ],
      "execution_count": 23,
      "outputs": []
    },
    {
      "cell_type": "markdown",
      "metadata": {
        "id": "dOq8gNtARxw-"
      },
      "source": [
        "## Codificación"
      ]
    },
    {
      "cell_type": "code",
      "metadata": {
        "id": "H5nSeyhpU3jX"
      },
      "source": [
        "def embarkedEncoding(dic,atribute,data):\r\n",
        "  data[atribute]=data[atribute].map(dic)\r\n",
        "  return data\r\n",
        "\r\n",
        "genderDict = {'female':1, 'male':0}\r\n",
        "embarkedDict = {'S':1,'C':2,'Q':0}\r\n",
        "\r\n",
        "data = embarkedEncoding(genderDict,\"Sex\",tr_d)\r\n",
        "data = embarkedEncoding(genderDict,\"Sex\",te_d)\r\n",
        "data = embarkedEncoding(embarkedDict,\"Embarked\",tr_d)\r\n",
        "data = embarkedEncoding(embarkedDict,\"Embarked\",te_d)"
      ],
      "execution_count": 24,
      "outputs": []
    },
    {
      "cell_type": "code",
      "metadata": {
        "id": "KQtgeqAwHzMo"
      },
      "source": [
        "tr_d['Alone'] = tr_d.SibSp + tr_d.Parch\r\n",
        "te_d['Alone'] = te_d.SibSp + te_d.Parch\r\n",
        "\r\n",
        "tr_d.Alone = tr_d.Alone.apply(lambda x: 1 if x == 0 else 0)\r\n",
        "tr_d.Alone = tr_d.Alone.apply(lambda x: 1 if x == 0 else 0)"
      ],
      "execution_count": 25,
      "outputs": []
    },
    {
      "cell_type": "code",
      "metadata": {
        "id": "ydz6TEvIJpxN"
      },
      "source": [
        "tr_d.drop(['SibSp','Parch'], axis = 1, inplace = True)\r\n",
        "te_d.drop(['SibSp','Parch'], axis = 1, inplace = True )"
      ],
      "execution_count": 26,
      "outputs": []
    },
    {
      "cell_type": "code",
      "metadata": {
        "id": "S0ENlKMkK14Y"
      },
      "source": [
        "combined_data = [tr_d,te_d]\r\n",
        "for data in combined_data:\r\n",
        "    data['Title'] = data.Name.str.extract('([A-Za-z]+)\\.', expand = False)\r\n",
        "    data.drop('Name', axis = 1, inplace = True)\r\n"
      ],
      "execution_count": 27,
      "outputs": []
    },
    {
      "cell_type": "code",
      "metadata": {
        "colab": {
          "base_uri": "https://localhost:8080/"
        },
        "id": "UoSBg_TVLtaH",
        "outputId": "d7bf5d95-6923-4869-ed28-9d44681eb56b"
      },
      "source": [
        "tr_d.Title.value_counts()"
      ],
      "execution_count": 28,
      "outputs": [
        {
          "output_type": "execute_result",
          "data": {
            "text/plain": [
              "Mr          517\n",
              "Miss        182\n",
              "Mrs         125\n",
              "Master       40\n",
              "Dr            7\n",
              "Rev           6\n",
              "Mlle          2\n",
              "Col           2\n",
              "Major         2\n",
              "Jonkheer      1\n",
              "Lady          1\n",
              "Countess      1\n",
              "Capt          1\n",
              "Mme           1\n",
              "Sir           1\n",
              "Ms            1\n",
              "Don           1\n",
              "Name: Title, dtype: int64"
            ]
          },
          "metadata": {
            "tags": []
          },
          "execution_count": 28
        }
      ]
    },
    {
      "cell_type": "code",
      "metadata": {
        "id": "9vv-pMt-MLCg"
      },
      "source": [
        "least_occuring = [ 'Don', 'Rev', 'Dr', 'Mme', 'Ms',\r\n",
        "       'Major', 'Lady', 'Sir', 'Mlle', 'Col', 'Capt', 'Countess','Dona',\r\n",
        "       'Jonkheer']\r\n",
        "       \r\n",
        "for data in combined_data:\r\n",
        "    data.Title = data.Title.replace(least_occuring, 'Rare')"
      ],
      "execution_count": 29,
      "outputs": []
    },
    {
      "cell_type": "code",
      "metadata": {
        "id": "k0PCW_uVMbFe"
      },
      "source": [
        "title_mapping = {\"Mr\": 1, \"Miss\": 2, \"Mrs\": 3, \"Master\": 4, \"Rare\": 5}\r\n",
        "for data in combined_data:\r\n",
        "    data['Title'] = data['Title'].map(title_mapping)"
      ],
      "execution_count": 30,
      "outputs": []
    },
    {
      "cell_type": "code",
      "metadata": {
        "id": "1a7FeG5jMfY2"
      },
      "source": [
        "columns_to_drop = ['PassengerId','Ticket']\r\n",
        "tr_d.drop(columns_to_drop, axis = 1, inplace = True)\r\n",
        "te_d.drop(columns_to_drop[1], axis = 1, inplace = True)"
      ],
      "execution_count": 31,
      "outputs": []
    },
    {
      "cell_type": "code",
      "metadata": {
        "id": "NXm4li5LMiCX"
      },
      "source": [
        "for dataset in combined_data:    \r\n",
        "    dataset.loc[ dataset['Age'] <= 16, 'Age'] = 0\r\n",
        "    dataset.loc[(dataset['Age'] > 16) & (dataset['Age'] <= 32), 'Age'] = 1\r\n",
        "    dataset.loc[(dataset['Age'] > 32) & (dataset['Age'] <= 48), 'Age'] = 2\r\n",
        "    dataset.loc[(dataset['Age'] > 48) & (dataset['Age'] <= 64), 'Age'] = 3\r\n",
        "    dataset.loc[ dataset['Age'] > 64, 'Age'] = 4"
      ],
      "execution_count": 32,
      "outputs": []
    },
    {
      "cell_type": "code",
      "metadata": {
        "id": "EDlN10yGMuZG"
      },
      "source": [
        "for data in combined_data:\r\n",
        "    data.loc[data['Fare'] < 30, 'Fare'] = 1\r\n",
        "    data.loc[(data['Fare'] >= 30) & (data['Fare'] < 50),'Fare'] = 2\r\n",
        "    data.loc[(data['Fare'] >= 50) & (data['Fare'] < 100),'Fare'] = 3\r\n",
        "    data.loc[(data['Fare'] >= 100),'Fare'] = 4"
      ],
      "execution_count": 33,
      "outputs": []
    },
    {
      "cell_type": "code",
      "metadata": {
        "colab": {
          "base_uri": "https://localhost:8080/"
        },
        "id": "4JgiT0rlNbTq",
        "outputId": "5d972bcd-bf50-4721-de4c-4eb4179563ed"
      },
      "source": [
        "X_train = tr_d.drop(\"Survived\", axis=1)\r\n",
        "Y_train = tr_d[\"Survived\"]\r\n",
        "X_test = te_d.drop(\"PassengerId\", axis = 1)\r\n",
        "print(\"Shape of X_train\",X_train.shape)\r\n",
        "print(\"Shape of Y_train\",Y_train.shape)\r\n",
        "print(\"Shape of x_test\",X_test.shape)"
      ],
      "execution_count": 34,
      "outputs": [
        {
          "output_type": "stream",
          "text": [
            "Shape of X_train (891, 7)\n",
            "Shape of Y_train (891,)\n",
            "Shape of x_test (418, 7)\n"
          ],
          "name": "stdout"
        }
      ]
    },
    {
      "cell_type": "code",
      "metadata": {
        "colab": {
          "base_uri": "https://localhost:8080/"
        },
        "id": "KdUsk2wtOkW6",
        "outputId": "d1a2951f-09b3-45c4-f7be-d13abfd11123"
      },
      "source": [
        "X_train = tr_d.drop(\"Survived\", axis=1)\r\n",
        "Y_train = tr_d[\"Survived\"]\r\n",
        "X_test = te_d.drop(\"PassengerId\", axis = 1)\r\n",
        "print(X_test.head())\r\n",
        "print(X_train.head())"
      ],
      "execution_count": 35,
      "outputs": [
        {
          "output_type": "stream",
          "text": [
            "   Pclass  Sex  Age  Fare  Embarked  Alone  Title\n",
            "0       3    0  2.0   1.0         0      0      1\n",
            "1       3    1  2.0   1.0         1      1      3\n",
            "2       2    0  3.0   1.0         0      0      1\n",
            "3       3    0  1.0   1.0         1      0      1\n",
            "4       3    1  1.0   1.0         1      2      3\n",
            "   Pclass  Sex  Age  Fare  Embarked  Alone  Title\n",
            "0       3    0  1.0   1.0         1      1      1\n",
            "1       1    1  2.0   3.0         2      1      3\n",
            "2       3    1  1.0   1.0         1      0      2\n",
            "3       1    1  2.0   3.0         1      1      3\n",
            "4       3    0  2.0   1.0         1      0      1\n"
          ],
          "name": "stdout"
        }
      ]
    },
    {
      "cell_type": "markdown",
      "metadata": {
        "id": "_k3BjKGLc75b"
      },
      "source": [
        "## Selección de características."
      ]
    },
    {
      "cell_type": "code",
      "metadata": {
        "id": "kZ_cBOcLP_lX"
      },
      "source": [
        "from sklearn.feature_selection import SelectKBest\r\n",
        "from sklearn.feature_selection import f_classif\r\n",
        "from numpy import set_printoptions\r\n",
        "\r\n",
        "from sklearn.feature_selection import RFE\r\n",
        "from sklearn.linear_model import LogisticRegression\r\n",
        "\r\n",
        "from sklearn.decomposition import PCA\r\n",
        "\r\n",
        "from sklearn.ensemble import ExtraTreesClassifier"
      ],
      "execution_count": 38,
      "outputs": []
    },
    {
      "cell_type": "code",
      "metadata": {
        "colab": {
          "base_uri": "https://localhost:8080/"
        },
        "id": "_sB4EOsiQEvE",
        "outputId": "7cf855b8-13c4-4a64-ee6e-6432859f08d0"
      },
      "source": [
        "test = SelectKBest(score_func=f_classif, k=4)\r\n",
        "fit = test.fit(X_train, Y_train)\r\n",
        "set_printoptions(precision=4)\r\n",
        "print(fit.scores_)\r\n",
        "features = fit.transform(X_train)\r\n",
        "print(features[0:5,:])\r\n",
        "\r\n",
        "#En este caso tomaremos  las columnas 0,1,3,7"
      ],
      "execution_count": 39,
      "outputs": [
        {
          "output_type": "stream",
          "text": [
            "[115.0313 372.4057   1.7088  80.0034  14.3305  38.3537 183.9828]\n",
            "[[3. 0. 1. 1.]\n",
            " [1. 1. 3. 3.]\n",
            " [3. 1. 1. 2.]\n",
            " [1. 1. 3. 3.]\n",
            " [3. 0. 1. 1.]]\n"
          ],
          "name": "stdout"
        }
      ]
    },
    {
      "cell_type": "code",
      "metadata": {
        "colab": {
          "base_uri": "https://localhost:8080/"
        },
        "id": "Oe-05TASQ-ce",
        "outputId": "949750d6-4559-411e-abc9-f63a9ccb8ce0"
      },
      "source": [
        "model = LogisticRegression(solver='lbfgs')\r\n",
        "rfe = RFE(model, 4)\r\n",
        "fit = rfe.fit(X_train, Y_train)\r\n",
        "print(\"Num Features: %d\" % fit.n_features_)\r\n",
        "print(\"Selected Features: %s\" % fit.support_)\r\n",
        "print(\"Feature Ranking: %s\" % fit.ranking_)\r\n",
        "\r\n",
        "#En este caso tomaremos  las columnas 0,1,2,7"
      ],
      "execution_count": 40,
      "outputs": [
        {
          "output_type": "stream",
          "text": [
            "Num Features: 4\n",
            "Selected Features: [ True  True  True False False False  True]\n",
            "Feature Ranking: [1 1 1 4 3 2 1]\n"
          ],
          "name": "stdout"
        }
      ]
    },
    {
      "cell_type": "code",
      "metadata": {
        "colab": {
          "base_uri": "https://localhost:8080/"
        },
        "id": "jN1zD9XzSDkO",
        "outputId": "b0c86c1b-20cb-4db5-8fea-fdef44457d26"
      },
      "source": [
        "model = ExtraTreesClassifier(n_estimators=100)\r\n",
        "model.fit(X_train, Y_train)\r\n",
        "print(model.feature_importances_)\r\n",
        "\r\n",
        "#En este caso tomaremos  las columnas 0,1,3,7"
      ],
      "execution_count": 41,
      "outputs": [
        {
          "output_type": "stream",
          "text": [
            "[0.1899 0.3449 0.085  0.0894 0.0625 0.0362 0.1922]\n"
          ],
          "name": "stdout"
        }
      ]
    },
    {
      "cell_type": "code",
      "metadata": {
        "id": "SzzD0bAgS76V"
      },
      "source": [
        "X_train = tr_d.drop(\"Fare\", axis=1)\r\n",
        "X_train = X_train.drop(\"Embarked\", axis=1)\r\n",
        "X_train = X_train.drop(\"Alone\", axis=1)\r\n",
        "X_train = X_train.drop(\"Survived\", axis=1)\r\n",
        "\r\n",
        "Y_train = tr_d[\"Survived\"]\r\n",
        "\r\n",
        "X_test = te_d.drop(\"PassengerId\", axis = 1)\r\n",
        "X_test = X_test.drop(\"Fare\", axis=1)\r\n",
        "X_test = X_test.drop(\"Embarked\", axis=1)\r\n",
        "X_test = X_test.drop(\"Alone\", axis=1)\r\n"
      ],
      "execution_count": 42,
      "outputs": []
    },
    {
      "cell_type": "code",
      "metadata": {
        "colab": {
          "base_uri": "https://localhost:8080/"
        },
        "id": "wypwxCDVTJU9",
        "outputId": "50cc0766-f1ff-4203-dd3c-1aadf701a360"
      },
      "source": [
        "print(X_test.head())\r\n",
        "print(X_train.head())"
      ],
      "execution_count": 43,
      "outputs": [
        {
          "output_type": "stream",
          "text": [
            "   Pclass  Sex  Age  Title\n",
            "0       3    0  2.0      1\n",
            "1       3    1  2.0      3\n",
            "2       2    0  3.0      1\n",
            "3       3    0  1.0      1\n",
            "4       3    1  1.0      3\n",
            "   Pclass  Sex  Age  Title\n",
            "0       3    0  1.0      1\n",
            "1       1    1  2.0      3\n",
            "2       3    1  1.0      2\n",
            "3       1    1  2.0      3\n",
            "4       3    0  2.0      1\n"
          ],
          "name": "stdout"
        }
      ]
    },
    {
      "cell_type": "markdown",
      "metadata": {
        "id": "LJLVYQu4nWzi"
      },
      "source": [
        "## Entrenamiento"
      ]
    },
    {
      "cell_type": "code",
      "metadata": {
        "id": "rlvlVQaXPrGQ"
      },
      "source": [
        "import tensorflow as tf\r\n",
        "from tensorflow import keras\r\n",
        "from keras.models import Sequential\r\n",
        "from keras.layers import Dense, Dropout"
      ],
      "execution_count": 117,
      "outputs": []
    },
    {
      "cell_type": "code",
      "metadata": {
        "id": "l6JB0rSkdDMd"
      },
      "source": [
        "def decodeBlock(n_neurons,bachnorm = True,dropout = 0.2):\r\n",
        "  model = tf.keras.Sequential()\r\n",
        "\r\n",
        "  model.add(tf.keras.layers.Dense(n_neurons))\r\n",
        "\r\n",
        "  if bachnorm:\r\n",
        "    model.add(tf.keras.layers.BatchNormalization())\r\n",
        "\r\n",
        "  if dropout > 0:\r\n",
        "    model.add(tf.keras.layers.Dropout(dropout))\r\n",
        "  \r\n",
        "  model.add(tf.keras.layers.PReLU())\r\n",
        "\r\n",
        "  return model"
      ],
      "execution_count": 76,
      "outputs": []
    },
    {
      "cell_type": "code",
      "metadata": {
        "id": "bKYfHRt2c2a5"
      },
      "source": [
        "def codeBlock(n_neurons,dropout = 0.2):\r\n",
        "\r\n",
        "  model = tf.keras.Sequential()\r\n",
        "\r\n",
        "  model.add(tf.keras.layers.Dense(n_neurons))\r\n",
        "\r\n",
        "  if dropout > 0:\r\n",
        "    model.add(tf.keras.layers.Dropout(dropout))\r\n",
        "  \r\n",
        "  model.add(tf.keras.layers.PReLU())\r\n",
        "\r\n",
        "  return model"
      ],
      "execution_count": 46,
      "outputs": []
    },
    {
      "cell_type": "code",
      "metadata": {
        "id": "7YlOBaYpPvXg"
      },
      "source": [
        "inputs = tf.keras.layers.Input(shape=[4])\r\n",
        "\r\n",
        "x = inputs\r\n",
        "\r\n",
        "x = codeBlock(2048)(x)\r\n",
        "x = codeBlock(4096,0.4)(x)\r\n",
        "x = decodeBlock(2048,dropout = 0.4)(x)\r\n",
        "x = decodeBlock(2048,dropout = 0.4)(x)\r\n",
        "x = decodeBlock(1024,dropout = 0.4)(x)\r\n",
        "x = decodeBlock(1024,dropout = 0.2)(x)\r\n",
        "x = decodeBlock(1024,dropout = 0.2)(x)\r\n",
        "x = decodeBlock(512,dropout = 0.1)(x)\r\n",
        "\r\n",
        "\r\n",
        "last = tf.keras.layers.Dense(units = 1, activation = 'sigmoid')(x)\r\n",
        "\r\n",
        "model = tf.keras.Model(inputs=inputs,outputs=last)\r\n",
        " \r\n",
        "#tf.keras.utils.plot_model(model, show_shapes=True, dpi=64)"
      ],
      "execution_count": 94,
      "outputs": []
    },
    {
      "cell_type": "code",
      "metadata": {
        "id": "k37vOK9NQHSb"
      },
      "source": [
        "callback = tf.keras.callbacks.EarlyStopping(monitor = 'loss',\r\n",
        "                                           patience = 10,\r\n",
        "                                           mode = 'min')"
      ],
      "execution_count": 78,
      "outputs": []
    },
    {
      "cell_type": "code",
      "metadata": {
        "id": "j1ckkVhviBWh"
      },
      "source": [
        "ams_grad = tf.keras.optimizers.Adam(\r\n",
        "    learning_rate=0.0001, beta_1=0.9, beta_2=0.999, epsilon=1e-07, amsgrad=True,\r\n",
        "    name='Adam'\r\n",
        ")"
      ],
      "execution_count": 104,
      "outputs": []
    },
    {
      "cell_type": "code",
      "metadata": {
        "colab": {
          "base_uri": "https://localhost:8080/"
        },
        "id": "8CC1lb6BP1Oz",
        "outputId": "50507d92-64df-4f9b-c2b8-343fa1e87b11"
      },
      "source": [
        "model.compile(optimizer = ams_grad, loss = 'binary_crossentropy', metrics = ['acc'])\r\n",
        "history = model.fit(X_train, Y_train , epochs = 200,batch_size = 1024,verbose = 1,callbacks = [callback])"
      ],
      "execution_count": 110,
      "outputs": [
        {
          "output_type": "stream",
          "text": [
            "Epoch 1/200\n",
            "1/1 [==============================] - 5s 5s/step - loss: 0.4216 - acc: 0.8047\n",
            "Epoch 2/200\n",
            "1/1 [==============================] - 3s 3s/step - loss: 0.4197 - acc: 0.7901\n",
            "Epoch 3/200\n",
            "1/1 [==============================] - 3s 3s/step - loss: 0.4291 - acc: 0.8002\n",
            "Epoch 4/200\n",
            "1/1 [==============================] - 3s 3s/step - loss: 0.4153 - acc: 0.8092\n",
            "Epoch 5/200\n",
            "1/1 [==============================] - 3s 3s/step - loss: 0.4201 - acc: 0.8103\n",
            "Epoch 6/200\n",
            "1/1 [==============================] - 3s 3s/step - loss: 0.4216 - acc: 0.8025\n",
            "Epoch 7/200\n",
            "1/1 [==============================] - 3s 3s/step - loss: 0.4197 - acc: 0.8036\n",
            "Epoch 8/200\n",
            "1/1 [==============================] - 3s 3s/step - loss: 0.4210 - acc: 0.8114\n",
            "Epoch 9/200\n",
            "1/1 [==============================] - 3s 3s/step - loss: 0.4200 - acc: 0.8013\n",
            "Epoch 10/200\n",
            "1/1 [==============================] - 3s 3s/step - loss: 0.4131 - acc: 0.8103\n",
            "Epoch 11/200\n",
            "1/1 [==============================] - 3s 3s/step - loss: 0.4196 - acc: 0.8058\n",
            "Epoch 12/200\n",
            "1/1 [==============================] - 3s 3s/step - loss: 0.4235 - acc: 0.7980\n",
            "Epoch 13/200\n",
            "1/1 [==============================] - 3s 3s/step - loss: 0.4151 - acc: 0.8058\n",
            "Epoch 14/200\n",
            "1/1 [==============================] - 3s 3s/step - loss: 0.4152 - acc: 0.8249\n",
            "Epoch 15/200\n",
            "1/1 [==============================] - 3s 3s/step - loss: 0.4264 - acc: 0.8025\n",
            "Epoch 16/200\n",
            "1/1 [==============================] - 3s 3s/step - loss: 0.4207 - acc: 0.8103\n",
            "Epoch 17/200\n",
            "1/1 [==============================] - 3s 3s/step - loss: 0.4195 - acc: 0.7969\n",
            "Epoch 18/200\n",
            "1/1 [==============================] - 3s 3s/step - loss: 0.4177 - acc: 0.8013\n",
            "Epoch 19/200\n",
            "1/1 [==============================] - 3s 3s/step - loss: 0.4178 - acc: 0.8070\n",
            "Epoch 20/200\n",
            "1/1 [==============================] - 3s 3s/step - loss: 0.4213 - acc: 0.8081\n"
          ],
          "name": "stdout"
        }
      ]
    },
    {
      "cell_type": "code",
      "metadata": {
        "id": "j6rfTCgVVc_9"
      },
      "source": [
        "predict = model.predict(X_test)"
      ],
      "execution_count": 111,
      "outputs": []
    },
    {
      "cell_type": "code",
      "metadata": {
        "id": "TFsi-wgScUHg"
      },
      "source": [
        "predict = (predict > 0.5).astype(int).ravel()"
      ],
      "execution_count": 112,
      "outputs": []
    },
    {
      "cell_type": "code",
      "metadata": {
        "colab": {
          "base_uri": "https://localhost:8080/"
        },
        "id": "VvRWkhSMcnAv",
        "outputId": "c1d519d6-c26a-45e2-c88e-f5cb70d1b873"
      },
      "source": [
        "Y_pred_rand = (model.predict(X_train) > 0.5).astype(int)\r\n",
        "print('Precision : ', np.round(metrics.precision_score(Y_train, Y_pred_rand)*100,2))\r\n",
        "print('Accuracy : ', np.round(metrics.accuracy_score(Y_train, Y_pred_rand)*100,2))\r\n",
        "print('Recall : ', np.round(metrics.recall_score(Y_train, Y_pred_rand)*100,2))\r\n",
        "print('F1 score : ', np.round(metrics.f1_score(Y_train, Y_pred_rand)*100,2))\r\n",
        "print('AUC : ', np.round(metrics.roc_auc_score(Y_train, Y_pred_rand)*100,2))"
      ],
      "execution_count": 113,
      "outputs": [
        {
          "output_type": "stream",
          "text": [
            "Precision :  79.3\n",
            "Accuracy :  80.36\n",
            "Recall :  66.08\n",
            "F1 score :  72.09\n",
            "AUC :  77.67\n"
          ],
          "name": "stdout"
        }
      ]
    },
    {
      "cell_type": "markdown",
      "metadata": {
        "id": "qBcCN6q1pk_X"
      },
      "source": [
        "## Submision"
      ]
    },
    {
      "cell_type": "code",
      "metadata": {
        "id": "PgJazHHNUjWU"
      },
      "source": [
        "submit = pd.DataFrame({\"PassengerId\":te_d.PassengerId, 'Survived':predict})\r\n",
        "submit.to_csv(\"../final_submission.csv\",index = False)"
      ],
      "execution_count": 116,
      "outputs": []
    }
  ]
}